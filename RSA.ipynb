{
  "nbformat": 4,
  "nbformat_minor": 0,
  "metadata": {
    "colab": {
      "provenance": [],
      "authorship_tag": "ABX9TyN4QmCNBKcIay3LW0ej5z6E",
      "include_colab_link": true
    },
    "kernelspec": {
      "name": "python3",
      "display_name": "Python 3"
    },
    "language_info": {
      "name": "python"
    }
  },
  "cells": [
    {
      "cell_type": "markdown",
      "metadata": {
        "id": "view-in-github",
        "colab_type": "text"
      },
      "source": [
        "<a href=\"https://colab.research.google.com/github/AmrMomtaz/RSA/blob/main/RSA.ipynb\" target=\"_parent\"><img src=\"https://colab.research.google.com/assets/colab-badge.svg\" alt=\"Open In Colab\"/></a>"
      ]
    },
    {
      "cell_type": "markdown",
      "source": [
        "# RSA\n",
        "\n",
        "Implementation of the RSA algorithm which generates PK/SK and encrypts and decrypts a given message."
      ],
      "metadata": {
        "id": "i7JD9x08FWg7"
      }
    },
    {
      "cell_type": "code",
      "source": [
        "# Defining constants\n",
        "MESSAGE = 'This assignment is based on Computer and Network Security by Avinash Kak.'\n",
        "KEY_SIZE = 2048 # Size of Public & Private keys (Number of bits)\n",
        "BLOCK_SIZE = KEY_SIZE # Number of bits for which the message is divided into blocks of it\n",
        "TRIALS = 5 # Number of trials used in Miller-Rabin primality test\n",
        "\n",
        "# Importing libraries\n",
        "import random\n",
        "import math"
      ],
      "metadata": {
        "id": "RWgP_WMbIGaj"
      },
      "execution_count": 634,
      "outputs": []
    },
    {
      "cell_type": "code",
      "source": [
        "# Generating two large prime number p & q of size 512 bits each\n",
        "def miller_rabin_primality_test(n):\n",
        "  if n < 2:\n",
        "      return False\n",
        "  if n == 2 or n == 3:\n",
        "      return True\n",
        "  if n % 2 == 0:\n",
        "      return False\n",
        "\n",
        "  r, d = 0, n-1\n",
        "  while d % 2 == 0:\n",
        "      r += 1\n",
        "      d //= 2\n",
        "\n",
        "  for _ in range(TRIALS):\n",
        "      a = random.randint(2, n-2)\n",
        "      x = pow(a, d, n)\n",
        "      if x == 1 or x == n-1:\n",
        "          continue\n",
        "      for _ in range(r-1):\n",
        "          x = pow(x, 2, n)\n",
        "          if x == n-1:\n",
        "              break\n",
        "      else:\n",
        "          return False\n",
        "  return True\n",
        "\n",
        "\n",
        "def generate_prime():\n",
        "  while True:\n",
        "      r = random.getrandbits(KEY_SIZE)\n",
        "      if miller_rabin_primality_test(r):\n",
        "          return r\n",
        "\n",
        "p = generate_prime()\n",
        "q = generate_prime()"
      ],
      "metadata": {
        "id": "KV_jGETqIHPj"
      },
      "execution_count": 635,
      "outputs": []
    },
    {
      "cell_type": "code",
      "source": [
        "# Generating the public exponent (e)\n",
        "def extended_gcd(a, b):\n",
        "  if b == 0:\n",
        "      return a, 1, 0\n",
        "  else:\n",
        "      gcd, x1, y1 = extended_gcd(b, a % b)\n",
        "      x = y1\n",
        "      y = x1 - (a // b) * y1\n",
        "      return gcd, x, y\n",
        "\n",
        "probes = [3, 17, 65537] # e will be chosen from this list\n",
        "e = None\n",
        "for probe in probes:\n",
        "  if extended_gcd(probe, p-1)[0] == 1 and extended_gcd(probe, q-1)[0] == 1:\n",
        "    e = probe\n",
        "    break\n",
        "\n",
        "if e is None:\n",
        "  raise Exception('The exponent isn\\'t set !')"
      ],
      "metadata": {
        "id": "XmNcaePaJHWc"
      },
      "execution_count": 636,
      "outputs": []
    },
    {
      "cell_type": "code",
      "source": [
        "# Calculating (d) and defining public and private keys\n",
        "d = extended_gcd(e, (p-1)*(q-1))[1]\n",
        "if d < 0:\n",
        "  d += (p-1)*(q-1)\n",
        "\n",
        "n = p*q\n",
        "PK = (e, n) # Public Key\n",
        "SK = (d, n) # Private Key\n",
        "print(f'Public Key: {PK}\\nPrivate Key: {SK}')"
      ],
      "metadata": {
        "colab": {
          "base_uri": "https://localhost:8080/"
        },
        "id": "a9A8C0Y5M4Qz",
        "outputId": "0e81ef76-1e95-4bf7-fe97-fba78ad23296"
      },
      "execution_count": 637,
      "outputs": [
        {
          "output_type": "stream",
          "name": "stdout",
          "text": [
            "Public Key: (17, 31998388735682309345671832469872225532962525055539846074925987320334114712869452530727346944850981945240026493052386075652352620982474071809497618368434825458939229380044862347392422816864681170456729345299772664398720920026276302165635806508898399770156667119918106134275598836375326063469423685637620398040781211376604014288898354776310638926048563273768073654796800734622528019523143365765767922552578183982893320938881706229431899532364428230774116863870173071732257161132356873903818407687277791472435566792046459678083843995170307614009186814231004934306062889642216531321465808339071404486119896339002863505057233126308495873481401083595663387045290554849698176937716975316268605305858398029179081537333880318322455349934017420216709546265993062132786357935772242564949900048048896336154539879898985539473978618302177080344578685707381358678714620837495823084955578655900322526674994133879272824330143766253734642763437145372662467626036889647380921645175477136982505483440736929805919476353138388561020475817798108215843761923799716461406729957882616979131333847660585727519574949694940102511900920352326250716379363509683829632468646107008061919047877970079248951992609261068449769788457776233494106980761854771314195145297)\n",
            "Private Key: (22587097931069865420474234684615688611502958862734008994065402814353492738496084139336950784600693137816489289213448994578131261869981697747880671789483406206310044268266961656982886694257422002675338361388074821928508884724430330940448804594516517484816470908177486683018069766853171338919593189861849692734669090383485186556869426900925156888975456428542169638680094636204137425545748258187600886507702247517336461839210616161951929081669008162899376609790710403575710937269898969814460052485137264568778047147326912713941536937767275962830014221810121130098397333865094022109269982356991579637261103298119668356500518433481681777553209056525724951588757910990125316892617287234644209002830817735992344842517132125100451210234804706160391123501867730478451359918474474336354808988325422964162563707842442737307280314996459355035143754768769393001021956613809614238108938894645059203207287692962780662002160514128719341450585148250493933275785552294638514354182974390733847905452048798163162050441941759427716137700586713205407651378463429790256790015634336378944940606794941625588863281876494409096079458224686532963133388445933442679806404273616454492214549298417816275995339924532652948141248486323511678189653897605820327708913, 31998388735682309345671832469872225532962525055539846074925987320334114712869452530727346944850981945240026493052386075652352620982474071809497618368434825458939229380044862347392422816864681170456729345299772664398720920026276302165635806508898399770156667119918106134275598836375326063469423685637620398040781211376604014288898354776310638926048563273768073654796800734622528019523143365765767922552578183982893320938881706229431899532364428230774116863870173071732257161132356873903818407687277791472435566792046459678083843995170307614009186814231004934306062889642216531321465808339071404486119896339002863505057233126308495873481401083595663387045290554849698176937716975316268605305858398029179081537333880318322455349934017420216709546265993062132786357935772242564949900048048896336154539879898985539473978618302177080344578685707381358678714620837495823084955578655900322526674994133879272824330143766253734642763437145372662467626036889647380921645175477136982505483440736929805919476353138388561020475817798108215843761923799716461406729957882616979131333847660585727519574949694940102511900920352326250716379363509683829632468646107008061919047877970079248951992609261068449769788457776233494106980761854771314195145297)\n"
          ]
        }
      ]
    },
    {
      "cell_type": "code",
      "source": [
        "# Defining functions which transform a given message to list of blocks of size\n",
        "# ${BLOCK_SIZE} and vice versa (It pads the message if necessary).\n",
        "def pad_message(message):\n",
        "  binary_message = ''.join(format(ord(c), '08b') for c in message)\n",
        "  padding_length = (BLOCK_SIZE - (len(binary_message) + int(BLOCK_SIZE/8)) % BLOCK_SIZE) % BLOCK_SIZE\n",
        "  padded_message = binary_message + '1' + '0'*padding_length + format(len(binary_message), '064b')\n",
        "  blocks = [padded_message[i:i+BLOCK_SIZE] for i in range(0, len(padded_message), BLOCK_SIZE)]\n",
        "  return blocks\n",
        "\n",
        "def unpad_message(blocks):\n",
        "  binary_message = ''.join(blocks)\n",
        "  message_length = int(binary_message[-int(BLOCK_SIZE/8):], 2)\n",
        "  binary_chunks = [binary_message[i:i+8] for i in range(0, message_length, 8)]\n",
        "  message = ''.join(chr(int(chunk, 2)) for chunk in binary_chunks)\n",
        "  return message"
      ],
      "metadata": {
        "id": "Whv8U5zRSfyx"
      },
      "execution_count": 638,
      "outputs": []
    },
    {
      "cell_type": "code",
      "source": [
        "# Defining the modular exponentiation function\n",
        "def modular_exp(base, exponent, modulus):\n",
        "  result = 1\n",
        "  while exponent > 0:\n",
        "      if exponent % 2 == 1:\n",
        "          result = (result * base) % modulus\n",
        "      base = (base * base) % modulus\n",
        "      exponent //= 2\n",
        "  return result"
      ],
      "metadata": {
        "id": "URCw_VktV8rB"
      },
      "execution_count": 639,
      "outputs": []
    },
    {
      "cell_type": "code",
      "source": [
        "# Defining the encrypt and decrypt functions using PK & SK\n",
        "def encrypt(message, PK):\n",
        "  e, n = PK\n",
        "  encrypted_blocks = list()\n",
        "  blocks = pad_message(message)\n",
        "  for block in blocks:\n",
        "    encrypted_blocks.append(modular_exp(int(block, 2), e, n))\n",
        "  return encrypted_blocks\n",
        "\n",
        "def decrypt(enrypted_blocks, SK):\n",
        "  d, n = SK\n",
        "  decrypted_blocks = list()\n",
        "  for enrypted_block in enrypted_blocks:\n",
        "    decrypted_block = modular_exp(enrypted_block, d, n)\n",
        "    decrypted_blocks.append(format(decrypted_block, f'{BLOCK_SIZE}b').replace(' ', '0'))\n",
        "  if decrypted_blocks[-1] == '0'*BLOCK_SIZE:\n",
        "    decrypted_blocks.pop()\n",
        "    decrypted_blocks.append('0')\n",
        "  else:\n",
        "    decrypted_blocks.append('0' + bin(int(decrypted_blocks.pop(), 2))[2:])\n",
        "  return unpad_message(decrypted_blocks)"
      ],
      "metadata": {
        "id": "WDQvyRlRVD2R"
      },
      "execution_count": 640,
      "outputs": []
    },
    {
      "cell_type": "code",
      "source": [
        "# Running the encryption and decryption\n",
        "encrpyted_blocks = encrypt(MESSAGE, PK)\n",
        "print(f'Encrypted Blocks: {encrpyted_blocks}')\n",
        "print(f'Decrypted Message: {decrypt(encrpyted_blocks, SK)}')"
      ],
      "metadata": {
        "colab": {
          "base_uri": "https://localhost:8080/"
        },
        "id": "vyapImaHTpXR",
        "outputId": "23c961e8-b2bf-4c55-8c40-91b33ede0aa2"
      },
      "execution_count": 641,
      "outputs": [
        {
          "output_type": "stream",
          "name": "stdout",
          "text": [
            "Encrypted Blocks: [9536118273098613107975233473368428155344640099098773724590918626525015758163649759260396428481171909631688205530139158598958210825276180016731570341956669527520489339960979083993345450657944069982056129892261602747330392837773375202678017870160787756883440515790743303009368928739839298678995635765654820062015185631816364292372901503507296293268655298638249073494203963440522570206225466601443106694281109806472485670077402779909687158124978461761382364002319428030502424044144804672607695914473559971282231206168940521586090882856360285027793278354549093046010032650287231842420288260624877502084735937970163848278882715608791824031844658635240224478491691576352730262424924481751483752750126135456142410649242069718286167252507147308344446118985496529358932292060039427817508242639387958459865745525482265368234558124597536874525379170005936924067545005911213247404171532243453970159490595486353305884710058145486018179662033051598253568606315737987556411522821939915696117274457943108805566248228555055663585012093557885273801726616787633688391037509821194900219710771254801239643541876923585974175523502459592487999715566167681737601411739341279136472223487616417260617769587335121907304115436678328027719991402377621531833303]\n",
            "Decrypted Message: This assignment is based on Computer and Network Security by Avinash Kak.\n"
          ]
        }
      ]
    }
  ]
}